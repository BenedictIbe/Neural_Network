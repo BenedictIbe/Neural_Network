{
  "nbformat": 4,
  "nbformat_minor": 0,
  "metadata": {
    "colab": {
      "provenance": []
    },
    "kernelspec": {
      "name": "python3",
      "display_name": "Python 3"
    },
    "language_info": {
      "name": "python"
    },
    "accelerator": "GPU",
    "gpuClass": "standard"
  },
  "cells": [
    {
      "cell_type": "code",
      "execution_count": null,
      "metadata": {
        "id": "klAzk9ycvZ13"
      },
      "outputs": [],
      "source": [
        "import numpy as np\n",
        "import pandas as pd\n",
        "import matplotlib.pyplot as plt\n",
        "import tensorflow as tf\n",
        "import seaborn as sns\n",
        "from sklearn.preprocessing import StandardScaler\n",
        "from sklearn.model_selection import train_test_split"
      ]
    },
    {
      "cell_type": "code",
      "source": [
        "#Creating our data frame\n",
        "teacher_db = pd.read_csv('tae.data')"
      ],
      "metadata": {
        "id": "Ob112Inbbpbi"
      },
      "execution_count": null,
      "outputs": []
    },
    {
      "cell_type": "code",
      "source": [
        "# Renaming the first columns of our data frame\n",
        "teacher_db.rename(columns = {'1' : 'Language', '23' : 'Instructor', \n",
        "                             '3' : 'Course', '1.1' : 'Term', '19' : 'Class-size', \n",
        "                             '3.1' : 'Class-attribute'}, \n",
        "                  inplace = True)"
      ],
      "metadata": {
        "id": "s-YjcIGPf9Mo"
      },
      "execution_count": null,
      "outputs": []
    },
    {
      "cell_type": "code",
      "source": [
        "teacher_db.head()"
      ],
      "metadata": {
        "colab": {
          "base_uri": "https://localhost:8080/",
          "height": 204
        },
        "id": "UFLXBQ1Bk1Uo",
        "outputId": "3d144ea8-34a2-4574-eab3-6a54c3e8e09f"
      },
      "execution_count": null,
      "outputs": [
        {
          "output_type": "execute_result",
          "data": {
            "text/plain": [
              "   Language  Instructor  Course  Term  Class-size  Class-attribute\n",
              "0         2          15       3     1          17                3\n",
              "1         1          23       3     2          49                3\n",
              "2         1           5       2     2          33                3\n",
              "3         2           7      11     2          55                3\n",
              "4         2          23       3     1          20                3"
            ],
            "text/html": [
              "\n",
              "  <div id=\"df-b585ce8a-d292-4122-8ae7-7a191deff5f9\">\n",
              "    <div class=\"colab-df-container\">\n",
              "      <div>\n",
              "<style scoped>\n",
              "    .dataframe tbody tr th:only-of-type {\n",
              "        vertical-align: middle;\n",
              "    }\n",
              "\n",
              "    .dataframe tbody tr th {\n",
              "        vertical-align: top;\n",
              "    }\n",
              "\n",
              "    .dataframe thead th {\n",
              "        text-align: right;\n",
              "    }\n",
              "</style>\n",
              "<table border=\"1\" class=\"dataframe\">\n",
              "  <thead>\n",
              "    <tr style=\"text-align: right;\">\n",
              "      <th></th>\n",
              "      <th>Language</th>\n",
              "      <th>Instructor</th>\n",
              "      <th>Course</th>\n",
              "      <th>Term</th>\n",
              "      <th>Class-size</th>\n",
              "      <th>Class-attribute</th>\n",
              "    </tr>\n",
              "  </thead>\n",
              "  <tbody>\n",
              "    <tr>\n",
              "      <th>0</th>\n",
              "      <td>2</td>\n",
              "      <td>15</td>\n",
              "      <td>3</td>\n",
              "      <td>1</td>\n",
              "      <td>17</td>\n",
              "      <td>3</td>\n",
              "    </tr>\n",
              "    <tr>\n",
              "      <th>1</th>\n",
              "      <td>1</td>\n",
              "      <td>23</td>\n",
              "      <td>3</td>\n",
              "      <td>2</td>\n",
              "      <td>49</td>\n",
              "      <td>3</td>\n",
              "    </tr>\n",
              "    <tr>\n",
              "      <th>2</th>\n",
              "      <td>1</td>\n",
              "      <td>5</td>\n",
              "      <td>2</td>\n",
              "      <td>2</td>\n",
              "      <td>33</td>\n",
              "      <td>3</td>\n",
              "    </tr>\n",
              "    <tr>\n",
              "      <th>3</th>\n",
              "      <td>2</td>\n",
              "      <td>7</td>\n",
              "      <td>11</td>\n",
              "      <td>2</td>\n",
              "      <td>55</td>\n",
              "      <td>3</td>\n",
              "    </tr>\n",
              "    <tr>\n",
              "      <th>4</th>\n",
              "      <td>2</td>\n",
              "      <td>23</td>\n",
              "      <td>3</td>\n",
              "      <td>1</td>\n",
              "      <td>20</td>\n",
              "      <td>3</td>\n",
              "    </tr>\n",
              "  </tbody>\n",
              "</table>\n",
              "</div>\n",
              "      <button class=\"colab-df-convert\" onclick=\"convertToInteractive('df-b585ce8a-d292-4122-8ae7-7a191deff5f9')\"\n",
              "              title=\"Convert this dataframe to an interactive table.\"\n",
              "              style=\"display:none;\">\n",
              "        \n",
              "  <svg xmlns=\"http://www.w3.org/2000/svg\" height=\"24px\"viewBox=\"0 0 24 24\"\n",
              "       width=\"24px\">\n",
              "    <path d=\"M0 0h24v24H0V0z\" fill=\"none\"/>\n",
              "    <path d=\"M18.56 5.44l.94 2.06.94-2.06 2.06-.94-2.06-.94-.94-2.06-.94 2.06-2.06.94zm-11 1L8.5 8.5l.94-2.06 2.06-.94-2.06-.94L8.5 2.5l-.94 2.06-2.06.94zm10 10l.94 2.06.94-2.06 2.06-.94-2.06-.94-.94-2.06-.94 2.06-2.06.94z\"/><path d=\"M17.41 7.96l-1.37-1.37c-.4-.4-.92-.59-1.43-.59-.52 0-1.04.2-1.43.59L10.3 9.45l-7.72 7.72c-.78.78-.78 2.05 0 2.83L4 21.41c.39.39.9.59 1.41.59.51 0 1.02-.2 1.41-.59l7.78-7.78 2.81-2.81c.8-.78.8-2.07 0-2.86zM5.41 20L4 18.59l7.72-7.72 1.47 1.35L5.41 20z\"/>\n",
              "  </svg>\n",
              "      </button>\n",
              "      \n",
              "  <style>\n",
              "    .colab-df-container {\n",
              "      display:flex;\n",
              "      flex-wrap:wrap;\n",
              "      gap: 12px;\n",
              "    }\n",
              "\n",
              "    .colab-df-convert {\n",
              "      background-color: #E8F0FE;\n",
              "      border: none;\n",
              "      border-radius: 50%;\n",
              "      cursor: pointer;\n",
              "      display: none;\n",
              "      fill: #1967D2;\n",
              "      height: 32px;\n",
              "      padding: 0 0 0 0;\n",
              "      width: 32px;\n",
              "    }\n",
              "\n",
              "    .colab-df-convert:hover {\n",
              "      background-color: #E2EBFA;\n",
              "      box-shadow: 0px 1px 2px rgba(60, 64, 67, 0.3), 0px 1px 3px 1px rgba(60, 64, 67, 0.15);\n",
              "      fill: #174EA6;\n",
              "    }\n",
              "\n",
              "    [theme=dark] .colab-df-convert {\n",
              "      background-color: #3B4455;\n",
              "      fill: #D2E3FC;\n",
              "    }\n",
              "\n",
              "    [theme=dark] .colab-df-convert:hover {\n",
              "      background-color: #434B5C;\n",
              "      box-shadow: 0px 1px 3px 1px rgba(0, 0, 0, 0.15);\n",
              "      filter: drop-shadow(0px 1px 2px rgba(0, 0, 0, 0.3));\n",
              "      fill: #FFFFFF;\n",
              "    }\n",
              "  </style>\n",
              "\n",
              "      <script>\n",
              "        const buttonEl =\n",
              "          document.querySelector('#df-b585ce8a-d292-4122-8ae7-7a191deff5f9 button.colab-df-convert');\n",
              "        buttonEl.style.display =\n",
              "          google.colab.kernel.accessAllowed ? 'block' : 'none';\n",
              "\n",
              "        async function convertToInteractive(key) {\n",
              "          const element = document.querySelector('#df-b585ce8a-d292-4122-8ae7-7a191deff5f9');\n",
              "          const dataTable =\n",
              "            await google.colab.kernel.invokeFunction('convertToInteractive',\n",
              "                                                     [key], {});\n",
              "          if (!dataTable) return;\n",
              "\n",
              "          const docLinkHtml = 'Like what you see? Visit the ' +\n",
              "            '<a target=\"_blank\" href=https://colab.research.google.com/notebooks/data_table.ipynb>data table notebook</a>'\n",
              "            + ' to learn more about interactive tables.';\n",
              "          element.innerHTML = '';\n",
              "          dataTable['output_type'] = 'display_data';\n",
              "          await google.colab.output.renderOutput(dataTable, element);\n",
              "          const docLink = document.createElement('div');\n",
              "          docLink.innerHTML = docLinkHtml;\n",
              "          element.appendChild(docLink);\n",
              "        }\n",
              "      </script>\n",
              "    </div>\n",
              "  </div>\n",
              "  "
            ]
          },
          "metadata": {},
          "execution_count": 4
        }
      ]
    },
    {
      "cell_type": "code",
      "source": [
        "teacher_db.tail()"
      ],
      "metadata": {
        "colab": {
          "base_uri": "https://localhost:8080/",
          "height": 204
        },
        "id": "-pgkuLhPozge",
        "outputId": "683c6a48-e13a-4219-a11e-2ed93eec86e6"
      },
      "execution_count": null,
      "outputs": [
        {
          "output_type": "execute_result",
          "data": {
            "text/plain": [
              "     Language  Instructor  Course  Term  Class-size  Class-attribute\n",
              "145         2           3       2     2          26                1\n",
              "146         2          10       3     2          12                1\n",
              "147         1          18       7     2          48                1\n",
              "148         2          22       1     2          51                1\n",
              "149         2           2      10     2          27                1"
            ],
            "text/html": [
              "\n",
              "  <div id=\"df-5ca1bb61-2887-4f10-a462-e94b81e40e42\">\n",
              "    <div class=\"colab-df-container\">\n",
              "      <div>\n",
              "<style scoped>\n",
              "    .dataframe tbody tr th:only-of-type {\n",
              "        vertical-align: middle;\n",
              "    }\n",
              "\n",
              "    .dataframe tbody tr th {\n",
              "        vertical-align: top;\n",
              "    }\n",
              "\n",
              "    .dataframe thead th {\n",
              "        text-align: right;\n",
              "    }\n",
              "</style>\n",
              "<table border=\"1\" class=\"dataframe\">\n",
              "  <thead>\n",
              "    <tr style=\"text-align: right;\">\n",
              "      <th></th>\n",
              "      <th>Language</th>\n",
              "      <th>Instructor</th>\n",
              "      <th>Course</th>\n",
              "      <th>Term</th>\n",
              "      <th>Class-size</th>\n",
              "      <th>Class-attribute</th>\n",
              "    </tr>\n",
              "  </thead>\n",
              "  <tbody>\n",
              "    <tr>\n",
              "      <th>145</th>\n",
              "      <td>2</td>\n",
              "      <td>3</td>\n",
              "      <td>2</td>\n",
              "      <td>2</td>\n",
              "      <td>26</td>\n",
              "      <td>1</td>\n",
              "    </tr>\n",
              "    <tr>\n",
              "      <th>146</th>\n",
              "      <td>2</td>\n",
              "      <td>10</td>\n",
              "      <td>3</td>\n",
              "      <td>2</td>\n",
              "      <td>12</td>\n",
              "      <td>1</td>\n",
              "    </tr>\n",
              "    <tr>\n",
              "      <th>147</th>\n",
              "      <td>1</td>\n",
              "      <td>18</td>\n",
              "      <td>7</td>\n",
              "      <td>2</td>\n",
              "      <td>48</td>\n",
              "      <td>1</td>\n",
              "    </tr>\n",
              "    <tr>\n",
              "      <th>148</th>\n",
              "      <td>2</td>\n",
              "      <td>22</td>\n",
              "      <td>1</td>\n",
              "      <td>2</td>\n",
              "      <td>51</td>\n",
              "      <td>1</td>\n",
              "    </tr>\n",
              "    <tr>\n",
              "      <th>149</th>\n",
              "      <td>2</td>\n",
              "      <td>2</td>\n",
              "      <td>10</td>\n",
              "      <td>2</td>\n",
              "      <td>27</td>\n",
              "      <td>1</td>\n",
              "    </tr>\n",
              "  </tbody>\n",
              "</table>\n",
              "</div>\n",
              "      <button class=\"colab-df-convert\" onclick=\"convertToInteractive('df-5ca1bb61-2887-4f10-a462-e94b81e40e42')\"\n",
              "              title=\"Convert this dataframe to an interactive table.\"\n",
              "              style=\"display:none;\">\n",
              "        \n",
              "  <svg xmlns=\"http://www.w3.org/2000/svg\" height=\"24px\"viewBox=\"0 0 24 24\"\n",
              "       width=\"24px\">\n",
              "    <path d=\"M0 0h24v24H0V0z\" fill=\"none\"/>\n",
              "    <path d=\"M18.56 5.44l.94 2.06.94-2.06 2.06-.94-2.06-.94-.94-2.06-.94 2.06-2.06.94zm-11 1L8.5 8.5l.94-2.06 2.06-.94-2.06-.94L8.5 2.5l-.94 2.06-2.06.94zm10 10l.94 2.06.94-2.06 2.06-.94-2.06-.94-.94-2.06-.94 2.06-2.06.94z\"/><path d=\"M17.41 7.96l-1.37-1.37c-.4-.4-.92-.59-1.43-.59-.52 0-1.04.2-1.43.59L10.3 9.45l-7.72 7.72c-.78.78-.78 2.05 0 2.83L4 21.41c.39.39.9.59 1.41.59.51 0 1.02-.2 1.41-.59l7.78-7.78 2.81-2.81c.8-.78.8-2.07 0-2.86zM5.41 20L4 18.59l7.72-7.72 1.47 1.35L5.41 20z\"/>\n",
              "  </svg>\n",
              "      </button>\n",
              "      \n",
              "  <style>\n",
              "    .colab-df-container {\n",
              "      display:flex;\n",
              "      flex-wrap:wrap;\n",
              "      gap: 12px;\n",
              "    }\n",
              "\n",
              "    .colab-df-convert {\n",
              "      background-color: #E8F0FE;\n",
              "      border: none;\n",
              "      border-radius: 50%;\n",
              "      cursor: pointer;\n",
              "      display: none;\n",
              "      fill: #1967D2;\n",
              "      height: 32px;\n",
              "      padding: 0 0 0 0;\n",
              "      width: 32px;\n",
              "    }\n",
              "\n",
              "    .colab-df-convert:hover {\n",
              "      background-color: #E2EBFA;\n",
              "      box-shadow: 0px 1px 2px rgba(60, 64, 67, 0.3), 0px 1px 3px 1px rgba(60, 64, 67, 0.15);\n",
              "      fill: #174EA6;\n",
              "    }\n",
              "\n",
              "    [theme=dark] .colab-df-convert {\n",
              "      background-color: #3B4455;\n",
              "      fill: #D2E3FC;\n",
              "    }\n",
              "\n",
              "    [theme=dark] .colab-df-convert:hover {\n",
              "      background-color: #434B5C;\n",
              "      box-shadow: 0px 1px 3px 1px rgba(0, 0, 0, 0.15);\n",
              "      filter: drop-shadow(0px 1px 2px rgba(0, 0, 0, 0.3));\n",
              "      fill: #FFFFFF;\n",
              "    }\n",
              "  </style>\n",
              "\n",
              "      <script>\n",
              "        const buttonEl =\n",
              "          document.querySelector('#df-5ca1bb61-2887-4f10-a462-e94b81e40e42 button.colab-df-convert');\n",
              "        buttonEl.style.display =\n",
              "          google.colab.kernel.accessAllowed ? 'block' : 'none';\n",
              "\n",
              "        async function convertToInteractive(key) {\n",
              "          const element = document.querySelector('#df-5ca1bb61-2887-4f10-a462-e94b81e40e42');\n",
              "          const dataTable =\n",
              "            await google.colab.kernel.invokeFunction('convertToInteractive',\n",
              "                                                     [key], {});\n",
              "          if (!dataTable) return;\n",
              "\n",
              "          const docLinkHtml = 'Like what you see? Visit the ' +\n",
              "            '<a target=\"_blank\" href=https://colab.research.google.com/notebooks/data_table.ipynb>data table notebook</a>'\n",
              "            + ' to learn more about interactive tables.';\n",
              "          element.innerHTML = '';\n",
              "          dataTable['output_type'] = 'display_data';\n",
              "          await google.colab.output.renderOutput(dataTable, element);\n",
              "          const docLink = document.createElement('div');\n",
              "          docLink.innerHTML = docLinkHtml;\n",
              "          element.appendChild(docLink);\n",
              "        }\n",
              "      </script>\n",
              "    </div>\n",
              "  </div>\n",
              "  "
            ]
          },
          "metadata": {},
          "execution_count": 5
        }
      ]
    },
    {
      "cell_type": "code",
      "source": [
        "teacher_db.info()"
      ],
      "metadata": {
        "colab": {
          "base_uri": "https://localhost:8080/"
        },
        "id": "M4iYoGreo3Cl",
        "outputId": "9d7b8ca7-d3af-48ae-f480-88413da3ff38"
      },
      "execution_count": null,
      "outputs": [
        {
          "output_type": "stream",
          "name": "stdout",
          "text": [
            "<class 'pandas.core.frame.DataFrame'>\n",
            "RangeIndex: 150 entries, 0 to 149\n",
            "Data columns (total 6 columns):\n",
            " #   Column           Non-Null Count  Dtype\n",
            "---  ------           --------------  -----\n",
            " 0   Language         150 non-null    int64\n",
            " 1   Instructor       150 non-null    int64\n",
            " 2   Course           150 non-null    int64\n",
            " 3   Term             150 non-null    int64\n",
            " 4   Class-size       150 non-null    int64\n",
            " 5   Class-attribute  150 non-null    int64\n",
            "dtypes: int64(6)\n",
            "memory usage: 7.2 KB\n"
          ]
        }
      ]
    },
    {
      "cell_type": "code",
      "source": [
        "teacher_db.describe()"
      ],
      "metadata": {
        "colab": {
          "base_uri": "https://localhost:8080/",
          "height": 358
        },
        "id": "_H-6MvYSo7tg",
        "outputId": "ee741289-3b6b-4636-a99b-28f30cf8b9be"
      },
      "execution_count": null,
      "outputs": [
        {
          "output_type": "execute_result",
          "data": {
            "text/plain": [
              "         Language  Instructor      Course        Term  Class-size  \\\n",
              "count  150.000000  150.000000  150.000000  150.000000  150.000000   \n",
              "mean     1.813333   13.580000    8.140000    1.853333   27.926667   \n",
              "std      0.390949    6.805318    7.034937    0.354958   12.916405   \n",
              "min      1.000000    1.000000    1.000000    1.000000    3.000000   \n",
              "25%      2.000000    8.000000    3.000000    2.000000   19.000000   \n",
              "50%      2.000000   13.000000    4.500000    2.000000   27.000000   \n",
              "75%      2.000000   20.000000   15.000000    2.000000   37.000000   \n",
              "max      2.000000   25.000000   26.000000    2.000000   66.000000   \n",
              "\n",
              "       Class-attribute  \n",
              "count       150.000000  \n",
              "mean          2.013333  \n",
              "std           0.819123  \n",
              "min           1.000000  \n",
              "25%           1.000000  \n",
              "50%           2.000000  \n",
              "75%           3.000000  \n",
              "max           3.000000  "
            ],
            "text/html": [
              "\n",
              "  <div id=\"df-fdff759f-8a61-4cf4-8153-4367d7ced84a\">\n",
              "    <div class=\"colab-df-container\">\n",
              "      <div>\n",
              "<style scoped>\n",
              "    .dataframe tbody tr th:only-of-type {\n",
              "        vertical-align: middle;\n",
              "    }\n",
              "\n",
              "    .dataframe tbody tr th {\n",
              "        vertical-align: top;\n",
              "    }\n",
              "\n",
              "    .dataframe thead th {\n",
              "        text-align: right;\n",
              "    }\n",
              "</style>\n",
              "<table border=\"1\" class=\"dataframe\">\n",
              "  <thead>\n",
              "    <tr style=\"text-align: right;\">\n",
              "      <th></th>\n",
              "      <th>Language</th>\n",
              "      <th>Instructor</th>\n",
              "      <th>Course</th>\n",
              "      <th>Term</th>\n",
              "      <th>Class-size</th>\n",
              "      <th>Class-attribute</th>\n",
              "    </tr>\n",
              "  </thead>\n",
              "  <tbody>\n",
              "    <tr>\n",
              "      <th>count</th>\n",
              "      <td>150.000000</td>\n",
              "      <td>150.000000</td>\n",
              "      <td>150.000000</td>\n",
              "      <td>150.000000</td>\n",
              "      <td>150.000000</td>\n",
              "      <td>150.000000</td>\n",
              "    </tr>\n",
              "    <tr>\n",
              "      <th>mean</th>\n",
              "      <td>1.813333</td>\n",
              "      <td>13.580000</td>\n",
              "      <td>8.140000</td>\n",
              "      <td>1.853333</td>\n",
              "      <td>27.926667</td>\n",
              "      <td>2.013333</td>\n",
              "    </tr>\n",
              "    <tr>\n",
              "      <th>std</th>\n",
              "      <td>0.390949</td>\n",
              "      <td>6.805318</td>\n",
              "      <td>7.034937</td>\n",
              "      <td>0.354958</td>\n",
              "      <td>12.916405</td>\n",
              "      <td>0.819123</td>\n",
              "    </tr>\n",
              "    <tr>\n",
              "      <th>min</th>\n",
              "      <td>1.000000</td>\n",
              "      <td>1.000000</td>\n",
              "      <td>1.000000</td>\n",
              "      <td>1.000000</td>\n",
              "      <td>3.000000</td>\n",
              "      <td>1.000000</td>\n",
              "    </tr>\n",
              "    <tr>\n",
              "      <th>25%</th>\n",
              "      <td>2.000000</td>\n",
              "      <td>8.000000</td>\n",
              "      <td>3.000000</td>\n",
              "      <td>2.000000</td>\n",
              "      <td>19.000000</td>\n",
              "      <td>1.000000</td>\n",
              "    </tr>\n",
              "    <tr>\n",
              "      <th>50%</th>\n",
              "      <td>2.000000</td>\n",
              "      <td>13.000000</td>\n",
              "      <td>4.500000</td>\n",
              "      <td>2.000000</td>\n",
              "      <td>27.000000</td>\n",
              "      <td>2.000000</td>\n",
              "    </tr>\n",
              "    <tr>\n",
              "      <th>75%</th>\n",
              "      <td>2.000000</td>\n",
              "      <td>20.000000</td>\n",
              "      <td>15.000000</td>\n",
              "      <td>2.000000</td>\n",
              "      <td>37.000000</td>\n",
              "      <td>3.000000</td>\n",
              "    </tr>\n",
              "    <tr>\n",
              "      <th>max</th>\n",
              "      <td>2.000000</td>\n",
              "      <td>25.000000</td>\n",
              "      <td>26.000000</td>\n",
              "      <td>2.000000</td>\n",
              "      <td>66.000000</td>\n",
              "      <td>3.000000</td>\n",
              "    </tr>\n",
              "  </tbody>\n",
              "</table>\n",
              "</div>\n",
              "      <button class=\"colab-df-convert\" onclick=\"convertToInteractive('df-fdff759f-8a61-4cf4-8153-4367d7ced84a')\"\n",
              "              title=\"Convert this dataframe to an interactive table.\"\n",
              "              style=\"display:none;\">\n",
              "        \n",
              "  <svg xmlns=\"http://www.w3.org/2000/svg\" height=\"24px\"viewBox=\"0 0 24 24\"\n",
              "       width=\"24px\">\n",
              "    <path d=\"M0 0h24v24H0V0z\" fill=\"none\"/>\n",
              "    <path d=\"M18.56 5.44l.94 2.06.94-2.06 2.06-.94-2.06-.94-.94-2.06-.94 2.06-2.06.94zm-11 1L8.5 8.5l.94-2.06 2.06-.94-2.06-.94L8.5 2.5l-.94 2.06-2.06.94zm10 10l.94 2.06.94-2.06 2.06-.94-2.06-.94-.94-2.06-.94 2.06-2.06.94z\"/><path d=\"M17.41 7.96l-1.37-1.37c-.4-.4-.92-.59-1.43-.59-.52 0-1.04.2-1.43.59L10.3 9.45l-7.72 7.72c-.78.78-.78 2.05 0 2.83L4 21.41c.39.39.9.59 1.41.59.51 0 1.02-.2 1.41-.59l7.78-7.78 2.81-2.81c.8-.78.8-2.07 0-2.86zM5.41 20L4 18.59l7.72-7.72 1.47 1.35L5.41 20z\"/>\n",
              "  </svg>\n",
              "      </button>\n",
              "      \n",
              "  <style>\n",
              "    .colab-df-container {\n",
              "      display:flex;\n",
              "      flex-wrap:wrap;\n",
              "      gap: 12px;\n",
              "    }\n",
              "\n",
              "    .colab-df-convert {\n",
              "      background-color: #E8F0FE;\n",
              "      border: none;\n",
              "      border-radius: 50%;\n",
              "      cursor: pointer;\n",
              "      display: none;\n",
              "      fill: #1967D2;\n",
              "      height: 32px;\n",
              "      padding: 0 0 0 0;\n",
              "      width: 32px;\n",
              "    }\n",
              "\n",
              "    .colab-df-convert:hover {\n",
              "      background-color: #E2EBFA;\n",
              "      box-shadow: 0px 1px 2px rgba(60, 64, 67, 0.3), 0px 1px 3px 1px rgba(60, 64, 67, 0.15);\n",
              "      fill: #174EA6;\n",
              "    }\n",
              "\n",
              "    [theme=dark] .colab-df-convert {\n",
              "      background-color: #3B4455;\n",
              "      fill: #D2E3FC;\n",
              "    }\n",
              "\n",
              "    [theme=dark] .colab-df-convert:hover {\n",
              "      background-color: #434B5C;\n",
              "      box-shadow: 0px 1px 3px 1px rgba(0, 0, 0, 0.15);\n",
              "      filter: drop-shadow(0px 1px 2px rgba(0, 0, 0, 0.3));\n",
              "      fill: #FFFFFF;\n",
              "    }\n",
              "  </style>\n",
              "\n",
              "      <script>\n",
              "        const buttonEl =\n",
              "          document.querySelector('#df-fdff759f-8a61-4cf4-8153-4367d7ced84a button.colab-df-convert');\n",
              "        buttonEl.style.display =\n",
              "          google.colab.kernel.accessAllowed ? 'block' : 'none';\n",
              "\n",
              "        async function convertToInteractive(key) {\n",
              "          const element = document.querySelector('#df-fdff759f-8a61-4cf4-8153-4367d7ced84a');\n",
              "          const dataTable =\n",
              "            await google.colab.kernel.invokeFunction('convertToInteractive',\n",
              "                                                     [key], {});\n",
              "          if (!dataTable) return;\n",
              "\n",
              "          const docLinkHtml = 'Like what you see? Visit the ' +\n",
              "            '<a target=\"_blank\" href=https://colab.research.google.com/notebooks/data_table.ipynb>data table notebook</a>'\n",
              "            + ' to learn more about interactive tables.';\n",
              "          element.innerHTML = '';\n",
              "          dataTable['output_type'] = 'display_data';\n",
              "          await google.colab.output.renderOutput(dataTable, element);\n",
              "          const docLink = document.createElement('div');\n",
              "          docLink.innerHTML = docLinkHtml;\n",
              "          element.appendChild(docLink);\n",
              "        }\n",
              "      </script>\n",
              "    </div>\n",
              "  </div>\n",
              "  "
            ]
          },
          "metadata": {},
          "execution_count": 7
        }
      ]
    },
    {
      "cell_type": "code",
      "source": [
        "# To check the class distribution\n",
        "teacher_db['Class-attribute'].value_counts()"
      ],
      "metadata": {
        "colab": {
          "base_uri": "https://localhost:8080/"
        },
        "id": "KBzESsZgp6Xv",
        "outputId": "c30e38b0-43cd-419a-9c09-17d6a5873235"
      },
      "execution_count": null,
      "outputs": [
        {
          "output_type": "execute_result",
          "data": {
            "text/plain": [
              "3    51\n",
              "2    50\n",
              "1    49\n",
              "Name: Class-attribute, dtype: int64"
            ]
          },
          "metadata": {},
          "execution_count": 8
        }
      ]
    },
    {
      "cell_type": "code",
      "source": [
        "# We now have a balanced class distribution\n",
        "sns.countplot(teacher_db['Class-attribute'])"
      ],
      "metadata": {
        "colab": {
          "base_uri": "https://localhost:8080/",
          "height": 350
        },
        "id": "Jufdte42rJhC",
        "outputId": "7d952323-fe8d-4600-fed0-23d00540ad10"
      },
      "execution_count": null,
      "outputs": [
        {
          "output_type": "stream",
          "name": "stderr",
          "text": [
            "/usr/local/lib/python3.7/dist-packages/seaborn/_decorators.py:43: FutureWarning: Pass the following variable as a keyword arg: x. From version 0.12, the only valid positional argument will be `data`, and passing other arguments without an explicit keyword will result in an error or misinterpretation.\n",
            "  FutureWarning\n"
          ]
        },
        {
          "output_type": "execute_result",
          "data": {
            "text/plain": [
              "<matplotlib.axes._subplots.AxesSubplot at 0x7f56691bca90>"
            ]
          },
          "metadata": {},
          "execution_count": 9
        },
        {
          "output_type": "display_data",
          "data": {
            "text/plain": [
              "<Figure size 432x288 with 1 Axes>"
            ],
            "image/png": "[encoded data removed]"
          },
          "metadata": {
            "needs_background": "light"
          }
        }
      ]
    },
    {
      "cell_type": "code",
      "source": [
        "# Defining our x and y data frame in preparation for split, and splitting our data into test and train\n",
        "x = teacher_db.drop('Class-attribute', axis = 1)\n",
        "y = teacher_db['Class-attribute'] - 1\n",
        "\n",
        "x_train, x_test, y_train, y_test = train_test_split(x, y, test_size= 0.1, stratify = y, random_state = 99)\n",
        "\n",
        "scaler = StandardScaler()\n",
        "x_train = scaler.fit_transform(x_train)\n",
        "x_test = scaler.transform(x_test)"
      ],
      "metadata": {
        "id": "LGCTAQgesPvI"
      },
      "execution_count": null,
      "outputs": []
    },
    {
      "cell_type": "code",
      "source": [
        "model = tf.keras.models.Sequential()"
      ],
      "metadata": {
        "id": "KHe2rGK20cA3"
      },
      "execution_count": null,
      "outputs": []
    },
    {
      "cell_type": "code",
      "source": [
        "#from tensorflow.keras.layers import Dropout\n",
        "#from tensorflow.keras.layers import Dense\n"
      ],
      "metadata": {
        "id": "IH1n5Iczc3pw"
      },
      "execution_count": null,
      "outputs": []
    },
    {
      "cell_type": "code",
      "source": [
        "#dropout = 0.2\n",
        "#hiddenLayerTwo = 256"
      ],
      "metadata": {
        "id": "jtvu-erTdIOC"
      },
      "execution_count": null,
      "outputs": []
    },
    {
      "cell_type": "code",
      "source": [
        "# Applying our activation function to our model, relu activates the first layer while softmax activates the second\n",
        "model = tf.keras.models.Sequential()\n",
        "model.add(tf.keras.layers.Dense(12, activation = 'tanh', input_shape = (5,)))\n",
        "model.add(tf.keras.layers.Dense(12, activation = 'relu'))\n",
        "model.add(tf.keras.layers.Dense(12, activation = 'relu'))\n",
        "model.add(tf.keras.layers.Dense(3, activation = 'softmax'))\n"
      ],
      "metadata": {
        "id": "NRpsJb4OyDwX"
      },
      "execution_count": null,
      "outputs": []
    },
    {
      "cell_type": "code",
      "source": [
        "# Compiling our model to set the speed as well as the stop loss or error index\n",
        "model.compile(optimizer = 'adam',\n",
        "              loss = 'sparse_categorical_crossentropy',\n",
        "              metrics = 'accuracy')\n"
      ],
      "metadata": {
        "id": "RZUdQ9JD2qHT"
      },
      "execution_count": null,
      "outputs": []
    },
    {
      "cell_type": "code",
      "source": [
        "model.summary()"
      ],
      "metadata": {
        "colab": {
          "base_uri": "https://localhost:8080/"
        },
        "id": "--9dJEwD3go8",
        "outputId": "c90d4fe1-d12f-4163-ac76-9ab234bf66df"
      },
      "execution_count": null,
      "outputs": [
        {
          "output_type": "stream",
          "name": "stdout",
          "text": [
            "Model: \"sequential_1\"\n",
            "_________________________________________________________________\n",
            " Layer (type)                Output Shape              Param #   \n",
            "=================================================================\n",
            " dense (Dense)               (None, 12)                72        \n",
            "                                                                 \n",
            " dense_1 (Dense)             (None, 12)                156       \n",
            "                                                                 \n",
            " dense_2 (Dense)             (None, 12)                156       \n",
            "                                                                 \n",
            " dense_3 (Dense)             (None, 3)                 39        \n",
            "                                                                 \n",
            "=================================================================\n",
            "Total params: 423\n",
            "Trainable params: 423\n",
            "Non-trainable params: 0\n",
            "_________________________________________________________________\n"
          ]
        }
      ]
    },
    {
      "cell_type": "code",
      "source": [
        "\n",
        "history = model.fit(x_train, y_train, \\\n",
        "                    batch_size = 4, epochs = 35, \\\n",
        "                    verbose = 2, \\\n",
        "                    validation_split = 0.1)"
      ],
      "metadata": {
        "colab": {
          "base_uri": "https://localhost:8080/"
        },
        "id": "-sCB-4wqiiCm",
        "outputId": "a0cc2efc-44fa-4ad5-9408-2551638327a6"
      },
      "execution_count": null,
      "outputs": [
        {
          "output_type": "stream",
          "name": "stdout",
          "text": [
            "Epoch 1/35\n",
            "31/31 - 4s - loss: 1.0962 - accuracy: 0.3471 - val_loss: 1.1580 - val_accuracy: 0.1429 - 4s/epoch - 133ms/step\n",
            "Epoch 2/35\n",
            "31/31 - 0s - loss: 1.0804 - accuracy: 0.3554 - val_loss: 1.1366 - val_accuracy: 0.1429 - 266ms/epoch - 9ms/step\n",
            "Epoch 3/35\n",
            "31/31 - 0s - loss: 1.0691 - accuracy: 0.3554 - val_loss: 1.1364 - val_accuracy: 0.1429 - 218ms/epoch - 7ms/step\n",
            "Epoch 4/35\n",
            "31/31 - 0s - loss: 1.0599 - accuracy: 0.3636 - val_loss: 1.1188 - val_accuracy: 0.1429 - 271ms/epoch - 9ms/step\n",
            "Epoch 5/35\n",
            "31/31 - 0s - loss: 1.0487 - accuracy: 0.3636 - val_loss: 1.1145 - val_accuracy: 0.1429 - 290ms/epoch - 9ms/step\n",
            "Epoch 6/35\n",
            "31/31 - 0s - loss: 1.0386 - accuracy: 0.4545 - val_loss: 1.1008 - val_accuracy: 0.3571 - 256ms/epoch - 8ms/step\n",
            "Epoch 7/35\n",
            "31/31 - 0s - loss: 1.0249 - accuracy: 0.5041 - val_loss: 1.0868 - val_accuracy: 0.4286 - 198ms/epoch - 6ms/step\n",
            "Epoch 8/35\n",
            "31/31 - 0s - loss: 1.0092 - accuracy: 0.5289 - val_loss: 1.0642 - val_accuracy: 0.5000 - 233ms/epoch - 8ms/step\n",
            "Epoch 9/35\n",
            "31/31 - 0s - loss: 0.9884 - accuracy: 0.5455 - val_loss: 1.0282 - val_accuracy: 0.6429 - 184ms/epoch - 6ms/step\n",
            "Epoch 10/35\n",
            "31/31 - 0s - loss: 0.9680 - accuracy: 0.5537 - val_loss: 1.0090 - val_accuracy: 0.5714 - 249ms/epoch - 8ms/step\n",
            "Epoch 11/35\n",
            "31/31 - 0s - loss: 0.9490 - accuracy: 0.5537 - val_loss: 0.9953 - val_accuracy: 0.5714 - 294ms/epoch - 9ms/step\n",
            "Epoch 12/35\n",
            "31/31 - 0s - loss: 0.9342 - accuracy: 0.5537 - val_loss: 0.9695 - val_accuracy: 0.5714 - 247ms/epoch - 8ms/step\n",
            "Epoch 13/35\n",
            "31/31 - 0s - loss: 0.9244 - accuracy: 0.5455 - val_loss: 0.9654 - val_accuracy: 0.5714 - 213ms/epoch - 7ms/step\n",
            "Epoch 14/35\n",
            "31/31 - 0s - loss: 0.9124 - accuracy: 0.5537 - val_loss: 0.9701 - val_accuracy: 0.6429 - 234ms/epoch - 8ms/step\n",
            "Epoch 15/35\n",
            "31/31 - 0s - loss: 0.9084 - accuracy: 0.5537 - val_loss: 0.9390 - val_accuracy: 0.5714 - 235ms/epoch - 8ms/step\n",
            "Epoch 16/35\n",
            "31/31 - 0s - loss: 0.8968 - accuracy: 0.5785 - val_loss: 0.9413 - val_accuracy: 0.6429 - 219ms/epoch - 7ms/step\n",
            "Epoch 17/35\n",
            "31/31 - 0s - loss: 0.8889 - accuracy: 0.6033 - val_loss: 0.9401 - val_accuracy: 0.6429 - 210ms/epoch - 7ms/step\n",
            "Epoch 18/35\n",
            "31/31 - 0s - loss: 0.8811 - accuracy: 0.5950 - val_loss: 0.9459 - val_accuracy: 0.6429 - 229ms/epoch - 7ms/step\n",
            "Epoch 19/35\n",
            "31/31 - 0s - loss: 0.8752 - accuracy: 0.5868 - val_loss: 0.9370 - val_accuracy: 0.7143 - 199ms/epoch - 6ms/step\n",
            "Epoch 20/35\n",
            "31/31 - 0s - loss: 0.8691 - accuracy: 0.6116 - val_loss: 0.9377 - val_accuracy: 0.6429 - 224ms/epoch - 7ms/step\n",
            "Epoch 21/35\n",
            "31/31 - 0s - loss: 0.8613 - accuracy: 0.6281 - val_loss: 0.9407 - val_accuracy: 0.7143 - 269ms/epoch - 9ms/step\n",
            "Epoch 22/35\n",
            "31/31 - 0s - loss: 0.8590 - accuracy: 0.6281 - val_loss: 0.9374 - val_accuracy: 0.6429 - 185ms/epoch - 6ms/step\n",
            "Epoch 23/35\n",
            "31/31 - 0s - loss: 0.8484 - accuracy: 0.6281 - val_loss: 0.9514 - val_accuracy: 0.5714 - 251ms/epoch - 8ms/step\n",
            "Epoch 24/35\n",
            "31/31 - 0s - loss: 0.8451 - accuracy: 0.6446 - val_loss: 0.9582 - val_accuracy: 0.5714 - 237ms/epoch - 8ms/step\n",
            "Epoch 25/35\n",
            "31/31 - 0s - loss: 0.8398 - accuracy: 0.6198 - val_loss: 0.9488 - val_accuracy: 0.5714 - 251ms/epoch - 8ms/step\n",
            "Epoch 26/35\n",
            "31/31 - 0s - loss: 0.8314 - accuracy: 0.6198 - val_loss: 0.9445 - val_accuracy: 0.6429 - 238ms/epoch - 8ms/step\n",
            "Epoch 27/35\n",
            "31/31 - 0s - loss: 0.8285 - accuracy: 0.6529 - val_loss: 0.9490 - val_accuracy: 0.5714 - 273ms/epoch - 9ms/step\n",
            "Epoch 28/35\n",
            "31/31 - 0s - loss: 0.8237 - accuracy: 0.6364 - val_loss: 0.9555 - val_accuracy: 0.5714 - 239ms/epoch - 8ms/step\n",
            "Epoch 29/35\n",
            "31/31 - 0s - loss: 0.8227 - accuracy: 0.6198 - val_loss: 0.9492 - val_accuracy: 0.5714 - 243ms/epoch - 8ms/step\n",
            "Epoch 30/35\n",
            "31/31 - 0s - loss: 0.8119 - accuracy: 0.6364 - val_loss: 0.9284 - val_accuracy: 0.6429 - 260ms/epoch - 8ms/step\n",
            "Epoch 31/35\n",
            "31/31 - 0s - loss: 0.8122 - accuracy: 0.6364 - val_loss: 0.9476 - val_accuracy: 0.5714 - 255ms/epoch - 8ms/step\n",
            "Epoch 32/35\n",
            "31/31 - 0s - loss: 0.8078 - accuracy: 0.6281 - val_loss: 0.9532 - val_accuracy: 0.5714 - 228ms/epoch - 7ms/step\n",
            "Epoch 33/35\n",
            "31/31 - 0s - loss: 0.8019 - accuracy: 0.6446 - val_loss: 0.9600 - val_accuracy: 0.5714 - 276ms/epoch - 9ms/step\n",
            "Epoch 34/35\n",
            "31/31 - 0s - loss: 0.7986 - accuracy: 0.6281 - val_loss: 0.9405 - val_accuracy: 0.5714 - 210ms/epoch - 7ms/step\n",
            "Epoch 35/35\n",
            "31/31 - 0s - loss: 0.7914 - accuracy: 0.6446 - val_loss: 0.9441 - val_accuracy: 0.5714 - 221ms/epoch - 7ms/step\n"
          ]
        }
      ]
    },
    {
      "cell_type": "code",
      "source": [
        "accuracy = history.history['accuracy']\n",
        "validation_accuracy = history.history['val_accuracy']\n",
        "\n",
        "plt.plot(accuracy, label = 'Training Set Accuracy')\n",
        "plt.plot(validation_accuracy, label = 'Validation Set Accuracy')\n",
        "plt.ylabel('Accuracy')\n",
        "plt.ylim([min(plt.ylim()), 1])\n",
        "plt.title('Training and Validation Accuracy Accross Epochs')\n",
        "plt.legend()"
      ],
      "metadata": {
        "colab": {
          "base_uri": "https://localhost:8080/",
          "height": 298
        },
        "id": "xoi0mkbZTJP4",
        "outputId": "1ddd13f4-ded8-45d0-e7d5-117cc73d3d42"
      },
      "execution_count": null,
      "outputs": [
        {
          "output_type": "execute_result",
          "data": {
            "text/plain": [
              "<matplotlib.legend.Legend at 0x7f5604390650>"
            ]
          },
          "metadata": {},
          "execution_count": 18
        },
        {
          "output_type": "display_data",
          "data": {
            "text/plain": [
              "<Figure size 432x288 with 1 Axes>"
            ],
            "image/png": "[encoded data removed]"
          },
          "metadata": {
            "needs_background": "light"
          }
        }
      ]
    },
    {
      "cell_type": "code",
      "source": [
        "loss = history.history['loss']\n",
        "validation_loss = history.history['val_loss']\n",
        "\n",
        "plt.plot(loss, label = 'Training Set Loss')\n",
        "plt.plot(validation_loss, label = 'Validation Set Loss')\n",
        "plt.ylabel('Loss')\n",
        "plt.ylim([min(plt.ylim()), 1])\n",
        "plt.title('Training and Validation Accuracy Accross Epochs')\n",
        "plt.legend()"
      ],
      "metadata": {
        "colab": {
          "base_uri": "https://localhost:8080/",
          "height": 298
        },
        "id": "V4SX2npZV_X1",
        "outputId": "115d1fb2-62be-47fe-df7d-03a65e0883af"
      },
      "execution_count": null,
      "outputs": [
        {
          "output_type": "execute_result",
          "data": {
            "text/plain": [
              "<matplotlib.legend.Legend at 0x7f56043acf10>"
            ]
          },
          "metadata": {},
          "execution_count": 19
        },
        {
          "output_type": "display_data",
          "data": {
            "text/plain": [
              "<Figure size 432x288 with 1 Axes>"
            ],
            "image/png": "[encoded data removed]"
          },
          "metadata": {
            "needs_background": "light"
          }
        }
      ]
    },
    {
      "cell_type": "code",
      "source": [
        "from sklearn.metrics import confusion_matrix, classification_report"
      ],
      "metadata": {
        "id": "T1VRIWMaWudE"
      },
      "execution_count": null,
      "outputs": []
    },
    {
      "cell_type": "code",
      "source": [
        "y_pred = model.predict(x_test)\n",
        "y_pred = y_pred.argmax(axis = 1)"
      ],
      "metadata": {
        "colab": {
          "base_uri": "https://localhost:8080/"
        },
        "id": "QgBptWjdWvz-",
        "outputId": "79f7f821-a476-45d9-ab67-4a83b73be447"
      },
      "execution_count": null,
      "outputs": [
        {
          "output_type": "stream",
          "name": "stdout",
          "text": [
            "1/1 [==============================] - 0s 242ms/step\n"
          ]
        }
      ]
    },
    {
      "cell_type": "code",
      "source": [
        "confusion_matrix = confusion_matrix(y_test, y_pred)\n",
        "\n",
        "ax = sns.heatmap(confusion_matrix, cmap = 'flare', annot = True, fmt = 'd')\n",
        "\n",
        "plt.xlabel('Predicted Class', fontsize = 12)\n",
        "plt.ylabel('True Class', fontsize = 12)\n",
        "plt.title('Confusion Matrix', fontsize = 12)\n",
        "\n",
        "plt.show()"
      ],
      "metadata": {
        "colab": {
          "base_uri": "https://localhost:8080/",
          "height": 298
        },
        "id": "f81E5pltXTPy",
        "outputId": "7e581c02-14e8-4cef-af6e-0fb465c538d6"
      },
      "execution_count": null,
      "outputs": [
        {
          "output_type": "display_data",
          "data": {
            "text/plain": [
              "<Figure size 432x288 with 2 Axes>"
            ],
            "image/png": "[encoded data removed]"
          },
          "metadata": {
            "needs_background": "light"
          }
        }
      ]
    },
    {
      "cell_type": "code",
      "source": [
        "print(classification_report(y_test, y_pred))"
      ],
      "metadata": {
        "colab": {
          "base_uri": "https://localhost:8080/"
        },
        "id": "glt92PAXX3FJ",
        "outputId": "e5267068-e738-48b3-fcad-4c5ee8868094"
      },
      "execution_count": null,
      "outputs": [
        {
          "output_type": "stream",
          "name": "stdout",
          "text": [
            "              precision    recall  f1-score   support\n",
            "\n",
            "           0       0.50      0.40      0.44         5\n",
            "           1       0.40      0.40      0.40         5\n",
            "           2       0.50      0.60      0.55         5\n",
            "\n",
            "    accuracy                           0.47        15\n",
            "   macro avg       0.47      0.47      0.46        15\n",
            "weighted avg       0.47      0.47      0.46        15\n",
            "\n"
          ]
        }
      ]
    }
  ]
}